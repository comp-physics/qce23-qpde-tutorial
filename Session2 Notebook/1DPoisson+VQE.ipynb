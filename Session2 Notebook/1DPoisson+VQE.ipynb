{
 "cells": [
  {
   "cell_type": "markdown",
   "metadata": {},
   "source": [
    "# Solving the Poisson's equation using VQE\n",
    "\n",
    "Author: Zhixin Song \\\n",
    "Last update: 09/22/2023"
   ]
  },
  {
   "cell_type": "markdown",
   "metadata": {},
   "source": [
    "## 1. Introduction\n",
    "\n",
    "Poisson's equation is $\\Delta \\phi = f$, where $\\Delta = \\nabla^2$ is the Laplace operator. It is widely used in theoretical physics, including electrostatistics and gravitational field. In Cartesian coordinates, it takes the form\n",
    "\n",
    "$$\n",
    "\\bigg(\\frac{\\partial^2}{\\partial x^2} +\\frac{\\partial^2}{\\partial y^2} + \\frac{\\partial^2}{\\partial z^2}\\bigg)\\phi(x,y,z) = f(x,y,z).\n",
    "$$\n",
    "\n",
    "Here, we only consider the 1D case for simplicity. We will disscuss how to generalize it to higher dimensions in a different tutorial. Also, we consider the Dirichlet boundary conditions (B.C.s) in domain $[a,b]$.\n",
    "\n",
    "$$\n",
    "\\Delta \\phi(x)= \\frac{\\partial^2 \\phi(x)}{\\partial x^2} = f(x), \\text{  with    } \\phi(a) = \\phi_a, \\phi(b) = \\phi_b.\n",
    "$$\n",
    "\n",
    "The classical approach to solve this type of PDE is discretizing the spatial domain into a grid mesh of $m$ points such that we can approximate the differential operator with a difference operator\n",
    "\n",
    "$$\n",
    "\\Delta \\phi(x) \\approx \\frac{\\phi_{i-1} - 2 \\phi_i + \\phi_{i+1}}{h^2},\n",
    "$$\n",
    "\n",
    "where $h = (b-a)/(m-1)$ is the separation between each grid point. Then, we can tramsform the orginal problem of solving PDE into a linear system $Ax=b$ where\n",
    "\n",
    "$$\n",
    "A = \n",
    "\\begin{bmatrix}\n",
    "    -2 &1 &0 &\\cdots &0 &0 &0\\\\\n",
    "    1 &-2 &1 &\\cdots &0 &0 &0\\\\\n",
    "    \\vdots &\\vdots &\\vdots &\\ddots &\\vdots &\\vdots &\\vdots\\\\\n",
    "    0 &0 &0 &\\cdots &1 &-2 &1\\\\\n",
    "    0 &0 &0 &\\cdots &0 &1 &-2\n",
    "\\end{bmatrix},\n",
    "b = \n",
    "\\begin{bmatrix}\n",
    "    h^2f_1 - \\phi_a \\\\\n",
    "    h^2 f_2 \\\\\n",
    "    \\vdots \\\\\n",
    "    h^2 f_{m-1} \\\\\n",
    "    h^2 f_m - \\phi_b\n",
    "\\end{bmatrix}.\n",
    "$$\n",
    "\n",
    "The error from such an discretization procedure decreases exponentially with the size of grid. On a classical computer, one can solve this linear system using Gaussian elimination with Matlab when the problem size is small. "
   ]
  },
  {
   "cell_type": "markdown",
   "metadata": {},
   "source": [
    "## 2. Quantum Solution\n",
    "\n",
    "Notice that a quantum state actually maps to an **exponential** grid size. Therefore the amount of quantum resources is linear in number of qubits $n$ and the discretization error decreases exponentially $\\mathcal{O}(1/2^n)$. There are multiple routes to solve this linear system. For the long-term view, one would use the HHL algorithm for speedup. On NISQ machines, we consider the Variational Quantum Eigensolver (VQE).\n",
    "\n",
    "First of all, we need to transfer the problem into a Hamiltonian $H$ where\n",
    "\n",
    "$$\n",
    "H = A^\\dagger(I - |b\\rangle\\langle b|) A\n",
    "$$\n",
    "\n",
    "In order to see how this works, we can try to plug into the solution $|x\\rangle$\n",
    "\n",
    "$$\n",
    "H |x\\rangle = A^\\dagger(I - |b\\rangle\\langle b|) A |x\\rangle = A^\\dagger(I - |b\\rangle\\langle b|) |b\\rangle\n",
    "= A^\\dagger(|b\\rangle - |b\\rangle) = 0 |x\\rangle. \n",
    "$$\n",
    "\n",
    "One can see that the solution is encoded in the ground state of $H$ with an eigenvalue of $0$. Then, we can use VQE to find the ground state.\n",
    "\n",
    "**Note**: Quantum solvers uaually find a normalized solution $|x\\rangle/||x||$."
   ]
  },
  {
   "cell_type": "markdown",
   "metadata": {},
   "source": [
    "## 3. Numerics\n",
    "\n",
    "Consider the driving function $f(x)=x$, boundary $[a,b]= [0,1]$ and boundary conditions $\\phi_a = \\phi_b=0$. Then, the analytical solution is $\\phi(x)=(x^3-x)/6$."
   ]
  },
  {
   "cell_type": "code",
   "execution_count": 2,
   "metadata": {
    "ExecuteTime": {
     "end_time": "2023-09-26T04:47:28.279804Z",
     "start_time": "2023-09-26T04:47:26.640495Z"
    }
   },
   "outputs": [],
   "source": [
    "from IPython.display import clear_output\n",
    "!pip install qiskit==0.39.0\n",
    "clear_output()"
   ]
  },
  {
   "cell_type": "markdown",
   "metadata": {},
   "source": [
    "### 3.0 Setup backend"
   ]
  },
  {
   "cell_type": "code",
   "execution_count": 6,
   "metadata": {
    "ExecuteTime": {
     "end_time": "2023-09-26T04:48:53.779234Z",
     "start_time": "2023-09-26T04:48:49.009493Z"
    }
   },
   "outputs": [
    {
     "name": "stderr",
     "output_type": "stream",
     "text": [
      "ibmqfactory.load_account:WARNING:2023-09-26 00:48:49,246: Credentials are already in use. The existing account in the session will be replaced.\n"
     ]
    }
   ],
   "source": [
    "from qiskit import QuantumCircuit, transpile\n",
    "from qiskit.circuit import Parameter\n",
    "\n",
    "from qiskit import IBMQ\n",
    "IBMQ.load_account() # Load account from disk\n",
    "# IBMQ.providers()    # List all available providers\n",
    "\n",
    "from qiskit.providers.fake_provider import FakeGuadalupe\n",
    "\n",
    "# Noisy simulator backend\n",
    "noisy_sim = FakeGuadalupe()\n",
    "\n",
    "from qiskit import Aer\n",
    "backend = Aer.get_backend('statevector_simulator')"
   ]
  },
  {
   "cell_type": "markdown",
   "metadata": {},
   "source": [
    "### 3.1 Encode the problem Hamiltonian"
   ]
  },
  {
   "cell_type": "code",
   "execution_count": 7,
   "metadata": {
    "ExecuteTime": {
     "end_time": "2023-09-26T04:48:56.315508Z",
     "start_time": "2023-09-26T04:48:55.995572Z"
    }
   },
   "outputs": [],
   "source": [
    "import numpy as np\n",
    "from scipy import sparse\n",
    "from scipy.sparse import diags\n",
    "from scipy.sparse.linalg import eigs\n",
    "import matplotlib.pyplot as plt\n",
    "plt.rcParams.update({\"font.size\": 16})  # enlarge matplotlib fonts\n",
    "\n",
    "from qiskit.opflow import MatrixOp"
   ]
  },
  {
   "cell_type": "code",
   "execution_count": 8,
   "metadata": {
    "ExecuteTime": {
     "end_time": "2023-09-26T04:48:58.646502Z",
     "start_time": "2023-09-26T04:48:58.578093Z"
    },
    "colab": {
     "base_uri": "https://localhost:8080/"
    },
    "id": "tG1j2d1-PP3O",
    "outputId": "c3af297d-5d30-4f13-a56f-ba76ebf8d131",
    "scrolled": true
   },
   "outputs": [
    {
     "name": "stdout",
     "output_type": "stream",
     "text": [
      "Classical solution:\n",
      " [-0.04853869 -0.09707737 -0.14440259 -0.18930087 -0.23055876 -0.26696277\n",
      " -0.29729945 -0.32035532 -0.33491693 -0.3397708  -0.33370346 -0.31550146\n",
      " -0.28395131 -0.23783956 -0.17595273 -0.09707737]\n",
      "Eigenvector:\n",
      " [-0.04853869 -0.09707737 -0.14440259 -0.18930087 -0.23055876 -0.26696277\n",
      " -0.29729945 -0.32035532 -0.33491693 -0.3397708  -0.33370346 -0.31550146\n",
      " -0.28395131 -0.23783956 -0.17595273 -0.09707737]\n",
      "Lenth of Pauli String: 38\n",
      "SummedOp([\n",
      "  5.862046370967742 * IIII,\n",
      "  -4.0 * IIIX,\n",
      "  0.01285282258064524 * IIIZ,\n",
      "  IIXI,\n",
      "  -2.0 * IIXX,\n",
      "  -2.0 * IIYY,\n",
      "  0.012852822580645018 * IIZI,\n",
      "  -0.13795362903225805 * IIZZ,\n",
      "  0.5 * IXXI,\n",
      "  -1.0 * IXXX,\n",
      "  IXYY,\n",
      "  -1.0 * IYXY,\n",
      "  0.5 * IYYI,\n",
      "  -1.0 * IYYX,\n",
      "  0.012852822580645185 * IZII,\n",
      "  -0.1379536290322581 * IZIZ,\n",
      "  -0.1379536290322581 * IZZI,\n",
      "  0.012852822580645185 * IZZZ,\n",
      "  0.25 * XXXI,\n",
      "  -0.49838709677419357 * XXXX,\n",
      "  0.49838709677419357 * XXYY,\n",
      "  0.49838709677419357 * XYXY,\n",
      "  -0.25 * XYYI,\n",
      "  0.49838709677419357 * XYYX,\n",
      "  -0.5016129032258064 * YXXY,\n",
      "  0.25 * YXYI,\n",
      "  -0.5016129032258064 * YXYX,\n",
      "  0.25 * YYXI,\n",
      "  -0.5016129032258064 * YYXX,\n",
      "  0.5016129032258064 * YYYY,\n",
      "  0.01285282258064524 * ZIII,\n",
      "  -0.13795362903225805 * ZIIZ,\n",
      "  -0.13795362903225805 * ZIZI,\n",
      "  0.01285282258064524 * ZIZZ,\n",
      "  -0.1379536290322581 * ZZII,\n",
      "  0.012852822580645185 * ZZIZ,\n",
      "  0.012852822580645185 * ZZZI,\n",
      "  -0.1379536290322581 * ZZZZ\n",
      "])\n"
     ]
    }
   ],
   "source": [
    "total_res = {}\n",
    "\n",
    "N = 4   # number of qubits\n",
    "dim = 2**N # dimension of the operator A\n",
    "\n",
    "# Setup a tridiagonal matrix\n",
    "k = [np.ones(dim-1), -2*np.ones(dim), np.ones(dim-1)]\n",
    "offset = [-1, 0, 1]\n",
    "A = diags(k,offset).toarray()\n",
    "\n",
    "# Setup the driving term f(x) = x\n",
    "b = np.linspace(0, 1, dim)\n",
    "h = 1/(dim-1)\n",
    "sampled_b = b*(h**2)\n",
    "bt = np.linspace(0, 1, dim)\n",
    "\n",
    "# Setup the Dirichlet B.C.s\n",
    "phi_a, phi_b = 0, 0\n",
    "sampled_b[0] -= phi_a\n",
    "sampled_b[dim-1] -= phi_b\n",
    "norm = np.linalg.norm(sampled_b)\n",
    "sampled_b = sampled_b/norm\n",
    "\n",
    "# Solve the linear system of equations\n",
    "x = np.linalg.solve(A, sampled_b)\n",
    "f = np.linalg.norm(x)\n",
    "x = x/f\n",
    "\n",
    "# Build Hamiltonian\n",
    "sampled_b = sampled_b.reshape([dim, 1])\n",
    "Hamiltonian = A@(np.eye(dim)- sampled_b@sampled_b.T)@A\n",
    "# print(Hamiltonian)\n",
    "\n",
    "print(\"Classical solution:\\n\", x)\n",
    "eig_val, eig_state = np.linalg.eig(Hamiltonian)\n",
    "# print(\"Eigenvalues:\\n\", eig_val)\n",
    "# print(min(eig_val))\n",
    "vec = eig_state[:,-1]\n",
    "# print(eig_state)\n",
    "print(\"Eigenvector:\\n\", -vec)\n",
    "\n",
    "# Transform into Pauli operators\n",
    "H_op = MatrixOp(Hamiltonian).to_pauli_op()\n",
    "print(\"Lenth of Pauli String:\",len(H_op))\n",
    "print(H_op)"
   ]
  },
  {
   "cell_type": "markdown",
   "metadata": {},
   "source": [
    "### 3.2 Ansatz design"
   ]
  },
  {
   "cell_type": "code",
   "execution_count": 9,
   "metadata": {
    "ExecuteTime": {
     "end_time": "2023-09-26T04:49:03.988611Z",
     "start_time": "2023-09-26T04:49:03.631645Z"
    }
   },
   "outputs": [
    {
     "data": {
      "text/html": [
       "<pre style=\"word-wrap: normal;white-space: pre;background: #fff0;line-height: 1.1;font-family: &quot;Courier New&quot;,Courier,monospace\">     ┌──────────┐┌──────────┐     ┌──────────┐┌───────────┐                          ┌───────────┐┌───────────┐                          ┌───────────┐┌───────────┐                          ┌───────────┐┌───────────┐                                    \n",
       "q_0: ┤ Ry(θ[0]) ├┤ Rz(θ[4]) ├──■──┤ Ry(θ[8]) ├┤ Rz(θ[12]) ├───────────────────■──────┤ Ry(θ[16]) ├┤ Rz(θ[20]) ├───────────────────■──────┤ Ry(θ[24]) ├┤ Rz(θ[28]) ├───────────────────■──────┤ Ry(θ[32]) ├┤ Rz(θ[36]) ├───────────────────■────────────────\n",
       "     ├──────────┤├──────────┤┌─┴─┐└──────────┘└┬──────────┤┌───────────┐    ┌─┴─┐    └───────────┘├───────────┤┌───────────┐    ┌─┴─┐    └───────────┘├───────────┤┌───────────┐    ┌─┴─┐    └───────────┘├───────────┤┌───────────┐    ┌─┴─┐              \n",
       "q_1: ┤ Ry(θ[1]) ├┤ Rz(θ[5]) ├┤ X ├─────■───────┤ Ry(θ[9]) ├┤ Rz(θ[13]) ├────┤ X ├──────────■──────┤ Ry(θ[17]) ├┤ Rz(θ[21]) ├────┤ X ├──────────■──────┤ Ry(θ[25]) ├┤ Rz(θ[29]) ├────┤ X ├──────────■──────┤ Ry(θ[33]) ├┤ Rz(θ[37]) ├────┤ X ├──────■───────\n",
       "     ├──────────┤├──────────┤└───┘   ┌─┴─┐     └──────────┘├───────────┤┌───┴───┴───┐    ┌─┴─┐    └───────────┘├───────────┤┌───┴───┴───┐    ┌─┴─┐    └───────────┘├───────────┤┌───┴───┴───┐    ┌─┴─┐    └───────────┘├───────────┤┌───┴───┴───┐┌─┴─┐     \n",
       "q_2: ┤ Ry(θ[2]) ├┤ Rz(θ[6]) ├────────┤ X ├──────────■──────┤ Ry(θ[10]) ├┤ Rz(θ[14]) ├────┤ X ├──────────■──────┤ Ry(θ[18]) ├┤ Rz(θ[22]) ├────┤ X ├──────────■──────┤ Ry(θ[26]) ├┤ Rz(θ[30]) ├────┤ X ├──────────■──────┤ Ry(θ[34]) ├┤ Rz(θ[38]) ├┤ X ├──■──\n",
       "     ├──────────┤├──────────┤        └───┘        ┌─┴─┐    ├───────────┤├───────────┤    └───┘        ┌─┴─┐    ├───────────┤├───────────┤    └───┘        ┌─┴─┐    ├───────────┤├───────────┤    └───┘        ┌─┴─┐    ├───────────┤├───────────┤└───┘┌─┴─┐\n",
       "q_3: ┤ Ry(θ[3]) ├┤ Rz(θ[7]) ├─────────────────────┤ X ├────┤ Ry(θ[11]) ├┤ Rz(θ[15]) ├─────────────────┤ X ├────┤ Ry(θ[19]) ├┤ Rz(θ[23]) ├─────────────────┤ X ├────┤ Ry(θ[27]) ├┤ Rz(θ[31]) ├─────────────────┤ X ├────┤ Ry(θ[35]) ├┤ Rz(θ[39]) ├─────┤ X ├\n",
       "     └──────────┘└──────────┘                     └───┘    └───────────┘└───────────┘                 └───┘    └───────────┘└───────────┘                 └───┘    └───────────┘└───────────┘                 └───┘    └───────────┘└───────────┘     └───┘</pre>"
      ],
      "text/plain": [
       "     ┌──────────┐┌──────────┐     ┌──────────┐┌───────────┐                          ┌───────────┐┌───────────┐                          ┌───────────┐┌───────────┐                          ┌───────────┐┌───────────┐                                    \n",
       "q_0: ┤ Ry(θ[0]) ├┤ Rz(θ[4]) ├──■──┤ Ry(θ[8]) ├┤ Rz(θ[12]) ├───────────────────■──────┤ Ry(θ[16]) ├┤ Rz(θ[20]) ├───────────────────■──────┤ Ry(θ[24]) ├┤ Rz(θ[28]) ├───────────────────■──────┤ Ry(θ[32]) ├┤ Rz(θ[36]) ├───────────────────■────────────────\n",
       "     ├──────────┤├──────────┤┌─┴─┐└──────────┘└┬──────────┤┌───────────┐    ┌─┴─┐    └───────────┘├───────────┤┌───────────┐    ┌─┴─┐    └───────────┘├───────────┤┌───────────┐    ┌─┴─┐    └───────────┘├───────────┤┌───────────┐    ┌─┴─┐              \n",
       "q_1: ┤ Ry(θ[1]) ├┤ Rz(θ[5]) ├┤ X ├─────■───────┤ Ry(θ[9]) ├┤ Rz(θ[13]) ├────┤ X ├──────────■──────┤ Ry(θ[17]) ├┤ Rz(θ[21]) ├────┤ X ├──────────■──────┤ Ry(θ[25]) ├┤ Rz(θ[29]) ├────┤ X ├──────────■──────┤ Ry(θ[33]) ├┤ Rz(θ[37]) ├────┤ X ├──────■───────\n",
       "     ├──────────┤├──────────┤└───┘   ┌─┴─┐     └──────────┘├───────────┤┌───┴───┴───┐    ┌─┴─┐    └───────────┘├───────────┤┌───┴───┴───┐    ┌─┴─┐    └───────────┘├───────────┤┌───┴───┴───┐    ┌─┴─┐    └───────────┘├───────────┤┌───┴───┴───┐┌─┴─┐     \n",
       "q_2: ┤ Ry(θ[2]) ├┤ Rz(θ[6]) ├────────┤ X ├──────────■──────┤ Ry(θ[10]) ├┤ Rz(θ[14]) ├────┤ X ├──────────■──────┤ Ry(θ[18]) ├┤ Rz(θ[22]) ├────┤ X ├──────────■──────┤ Ry(θ[26]) ├┤ Rz(θ[30]) ├────┤ X ├──────────■──────┤ Ry(θ[34]) ├┤ Rz(θ[38]) ├┤ X ├──■──\n",
       "     ├──────────┤├──────────┤        └───┘        ┌─┴─┐    ├───────────┤├───────────┤    └───┘        ┌─┴─┐    ├───────────┤├───────────┤    └───┘        ┌─┴─┐    ├───────────┤├───────────┤    └───┘        ┌─┴─┐    ├───────────┤├───────────┤└───┘┌─┴─┐\n",
       "q_3: ┤ Ry(θ[3]) ├┤ Rz(θ[7]) ├─────────────────────┤ X ├────┤ Ry(θ[11]) ├┤ Rz(θ[15]) ├─────────────────┤ X ├────┤ Ry(θ[19]) ├┤ Rz(θ[23]) ├─────────────────┤ X ├────┤ Ry(θ[27]) ├┤ Rz(θ[31]) ├─────────────────┤ X ├────┤ Ry(θ[35]) ├┤ Rz(θ[39]) ├─────┤ X ├\n",
       "     └──────────┘└──────────┘                     └───┘    └───────────┘└───────────┘                 └───┘    └───────────┘└───────────┘                 └───┘    └───────────┘└───────────┘                 └───┘    └───────────┘└───────────┘     └───┘"
      ]
     },
     "execution_count": 9,
     "metadata": {},
     "output_type": "execute_result"
    }
   ],
   "source": [
    "from qiskit.circuit.library import EfficientSU2\n",
    "\n",
    "depth = 5 # depth of ansatz\n",
    "ansatz = EfficientSU2(N, entanglement='linear', reps=depth, skip_final_rotation_layer=True).decompose()\n",
    "ansatz.draw(fold=300)"
   ]
  },
  {
   "cell_type": "markdown",
   "metadata": {},
   "source": [
    "### 3.3 Transpile"
   ]
  },
  {
   "cell_type": "code",
   "execution_count": 16,
   "metadata": {
    "ExecuteTime": {
     "end_time": "2023-09-26T04:51:01.568999Z",
     "start_time": "2023-09-26T04:51:01.528723Z"
    },
    "scrolled": false
   },
   "outputs": [
    {
     "name": "stdout",
     "output_type": "stream",
     "text": [
      "number and type of gates in the cirucit: OrderedDict([('ry', 20), ('rz', 20), ('cx', 15)])\n",
      "number of parameters in the circuit: 40\n"
     ]
    },
    {
     "data": {
      "text/html": [
       "<pre style=\"word-wrap: normal;white-space: pre;background: #fff0;line-height: 1.1;font-family: &quot;Courier New&quot;,Courier,monospace\">     ┌──────────┐┌──────────┐     ┌──────────┐┌───────────┐                          ┌───────────┐┌───────────┐                          ┌───────────┐┌───────────┐                          ┌───────────┐┌───────────┐                                    \n",
       "q_0: ┤ Ry(θ[0]) ├┤ Rz(θ[4]) ├──■──┤ Ry(θ[8]) ├┤ Rz(θ[12]) ├───────────────────■──────┤ Ry(θ[16]) ├┤ Rz(θ[20]) ├───────────────────■──────┤ Ry(θ[24]) ├┤ Rz(θ[28]) ├───────────────────■──────┤ Ry(θ[32]) ├┤ Rz(θ[36]) ├───────────────────■────────────────\n",
       "     ├──────────┤├──────────┤┌─┴─┐└──────────┘└┬──────────┤┌───────────┐    ┌─┴─┐    └───────────┘├───────────┤┌───────────┐    ┌─┴─┐    └───────────┘├───────────┤┌───────────┐    ┌─┴─┐    └───────────┘├───────────┤┌───────────┐    ┌─┴─┐              \n",
       "q_1: ┤ Ry(θ[1]) ├┤ Rz(θ[5]) ├┤ X ├─────■───────┤ Ry(θ[9]) ├┤ Rz(θ[13]) ├────┤ X ├──────────■──────┤ Ry(θ[17]) ├┤ Rz(θ[21]) ├────┤ X ├──────────■──────┤ Ry(θ[25]) ├┤ Rz(θ[29]) ├────┤ X ├──────────■──────┤ Ry(θ[33]) ├┤ Rz(θ[37]) ├────┤ X ├──────■───────\n",
       "     ├──────────┤├──────────┤└───┘   ┌─┴─┐     └──────────┘├───────────┤┌───┴───┴───┐    ┌─┴─┐    └───────────┘├───────────┤┌───┴───┴───┐    ┌─┴─┐    └───────────┘├───────────┤┌───┴───┴───┐    ┌─┴─┐    └───────────┘├───────────┤┌───┴───┴───┐┌─┴─┐     \n",
       "q_2: ┤ Ry(θ[2]) ├┤ Rz(θ[6]) ├────────┤ X ├──────────■──────┤ Ry(θ[10]) ├┤ Rz(θ[14]) ├────┤ X ├──────────■──────┤ Ry(θ[18]) ├┤ Rz(θ[22]) ├────┤ X ├──────────■──────┤ Ry(θ[26]) ├┤ Rz(θ[30]) ├────┤ X ├──────────■──────┤ Ry(θ[34]) ├┤ Rz(θ[38]) ├┤ X ├──■──\n",
       "     ├──────────┤├──────────┤        └───┘        ┌─┴─┐    ├───────────┤├───────────┤    └───┘        ┌─┴─┐    ├───────────┤├───────────┤    └───┘        ┌─┴─┐    ├───────────┤├───────────┤    └───┘        ┌─┴─┐    ├───────────┤├───────────┤└───┘┌─┴─┐\n",
       "q_3: ┤ Ry(θ[3]) ├┤ Rz(θ[7]) ├─────────────────────┤ X ├────┤ Ry(θ[11]) ├┤ Rz(θ[15]) ├─────────────────┤ X ├────┤ Ry(θ[19]) ├┤ Rz(θ[23]) ├─────────────────┤ X ├────┤ Ry(θ[27]) ├┤ Rz(θ[31]) ├─────────────────┤ X ├────┤ Ry(θ[35]) ├┤ Rz(θ[39]) ├─────┤ X ├\n",
       "     └──────────┘└──────────┘                     └───┘    └───────────┘└───────────┘                 └───┘    └───────────┘└───────────┘                 └───┘    └───────────┘└───────────┘                 └───┘    └───────────┘└───────────┘     └───┘</pre>"
      ],
      "text/plain": [
       "     ┌──────────┐┌──────────┐     ┌──────────┐┌───────────┐                          ┌───────────┐┌───────────┐                          ┌───────────┐┌───────────┐                          ┌───────────┐┌───────────┐                                    \n",
       "q_0: ┤ Ry(θ[0]) ├┤ Rz(θ[4]) ├──■──┤ Ry(θ[8]) ├┤ Rz(θ[12]) ├───────────────────■──────┤ Ry(θ[16]) ├┤ Rz(θ[20]) ├───────────────────■──────┤ Ry(θ[24]) ├┤ Rz(θ[28]) ├───────────────────■──────┤ Ry(θ[32]) ├┤ Rz(θ[36]) ├───────────────────■────────────────\n",
       "     ├──────────┤├──────────┤┌─┴─┐└──────────┘└┬──────────┤┌───────────┐    ┌─┴─┐    └───────────┘├───────────┤┌───────────┐    ┌─┴─┐    └───────────┘├───────────┤┌───────────┐    ┌─┴─┐    └───────────┘├───────────┤┌───────────┐    ┌─┴─┐              \n",
       "q_1: ┤ Ry(θ[1]) ├┤ Rz(θ[5]) ├┤ X ├─────■───────┤ Ry(θ[9]) ├┤ Rz(θ[13]) ├────┤ X ├──────────■──────┤ Ry(θ[17]) ├┤ Rz(θ[21]) ├────┤ X ├──────────■──────┤ Ry(θ[25]) ├┤ Rz(θ[29]) ├────┤ X ├──────────■──────┤ Ry(θ[33]) ├┤ Rz(θ[37]) ├────┤ X ├──────■───────\n",
       "     ├──────────┤├──────────┤└───┘   ┌─┴─┐     └──────────┘├───────────┤┌───┴───┴───┐    ┌─┴─┐    └───────────┘├───────────┤┌───┴───┴───┐    ┌─┴─┐    └───────────┘├───────────┤┌───┴───┴───┐    ┌─┴─┐    └───────────┘├───────────┤┌───┴───┴───┐┌─┴─┐     \n",
       "q_2: ┤ Ry(θ[2]) ├┤ Rz(θ[6]) ├────────┤ X ├──────────■──────┤ Ry(θ[10]) ├┤ Rz(θ[14]) ├────┤ X ├──────────■──────┤ Ry(θ[18]) ├┤ Rz(θ[22]) ├────┤ X ├──────────■──────┤ Ry(θ[26]) ├┤ Rz(θ[30]) ├────┤ X ├──────────■──────┤ Ry(θ[34]) ├┤ Rz(θ[38]) ├┤ X ├──■──\n",
       "     ├──────────┤├──────────┤        └───┘        ┌─┴─┐    ├───────────┤├───────────┤    └───┘        ┌─┴─┐    ├───────────┤├───────────┤    └───┘        ┌─┴─┐    ├───────────┤├───────────┤    └───┘        ┌─┴─┐    ├───────────┤├───────────┤└───┘┌─┴─┐\n",
       "q_3: ┤ Ry(θ[3]) ├┤ Rz(θ[7]) ├─────────────────────┤ X ├────┤ Ry(θ[11]) ├┤ Rz(θ[15]) ├─────────────────┤ X ├────┤ Ry(θ[19]) ├┤ Rz(θ[23]) ├─────────────────┤ X ├────┤ Ry(θ[27]) ├┤ Rz(θ[31]) ├─────────────────┤ X ├────┤ Ry(θ[35]) ├┤ Rz(θ[39]) ├─────┤ X ├\n",
       "     └──────────┘└──────────┘                     └───┘    └───────────┘└───────────┘                 └───┘    └───────────┘└───────────┘                 └───┘    └───────────┘└───────────┘                 └───┘    └───────────┘└───────────┘     └───┘"
      ]
     },
     "execution_count": 16,
     "metadata": {},
     "output_type": "execute_result"
    }
   ],
   "source": [
    "ansatz_opt = transpile(ansatz, backend=backend, optimization_level=3)\n",
    "\n",
    "print('number and type of gates in the cirucit:', ansatz_opt.count_ops())\n",
    "print('number of parameters in the circuit:', ansatz_opt.num_parameters)\n",
    "ansatz_opt.draw(fold=300)"
   ]
  },
  {
   "cell_type": "markdown",
   "metadata": {},
   "source": [
    "### 3.4 Optimizer"
   ]
  },
  {
   "cell_type": "code",
   "execution_count": 17,
   "metadata": {
    "ExecuteTime": {
     "end_time": "2023-09-26T04:51:04.390962Z",
     "start_time": "2023-09-26T04:51:04.382428Z"
    }
   },
   "outputs": [],
   "source": [
    "from qiskit.algorithms.optimizers import SPSA, COBYLA, L_BFGS_B, NELDER_MEAD, SLSQP, ADAM, AQGD, CG, POWELL, QNSPSA\n",
    "\n",
    "# optimizer = SPSA(maxiter=500)\n",
    "optimizer  = L_BFGS_B(maxiter=5000)\n",
    "# optimizer  = ADAM(maxiter=200, lr=0.2)\n",
    "# optimizer  = AQGD(maxiter=1000, eta=1.0, tol=1e-06, momentum=0.25, param_tol=1e-06, averaging=10)\n",
    "# optimizer  = POWELL()\n",
    "# optimizer  = COBYLA(maxiter=10000)\n",
    "# optimizer  = SLSQP(maxiter=10000)"
   ]
  },
  {
   "cell_type": "markdown",
   "metadata": {},
   "source": [
    "### 3.5 Define VQE program"
   ]
  },
  {
   "cell_type": "code",
   "execution_count": 18,
   "metadata": {
    "ExecuteTime": {
     "end_time": "2023-09-26T04:51:05.760036Z",
     "start_time": "2023-09-26T04:51:05.735225Z"
    }
   },
   "outputs": [],
   "source": [
    "from qiskit.utils import QuantumInstance\n",
    "from qiskit.algorithms import VQE\n",
    "\n",
    "quantum_instance = QuantumInstance(backend=backend, seed_simulator=28, seed_transpiler=28,\n",
    "                                        basis_gates=None,\n",
    "                                        optimization_level=3)"
   ]
  },
  {
   "cell_type": "code",
   "execution_count": 23,
   "metadata": {
    "ExecuteTime": {
     "end_time": "2023-09-26T04:53:43.556984Z",
     "start_time": "2023-09-26T04:53:12.942913Z"
    }
   },
   "outputs": [
    {
     "name": "stdout",
     "output_type": "stream",
     "text": [
      "[-0.0493348  -0.09796455 -0.14599025 -0.19196375 -0.23355753 -0.26817149\n",
      " -0.29595613 -0.31682692 -0.3305809  -0.33576174 -0.33128343 -0.31572619\n",
      " -0.28691542 -0.24269034 -0.1809713  -0.09975125]\n",
      "Current round using ansatz TwoLocal with depth 5, found eigenvalue 0.000100065994558574. Best so far 0.000100065994558574\n"
     ]
    }
   ],
   "source": [
    "best_result = 99999\n",
    "\n",
    "vqe = VQE(ansatz_opt, optimizer,quantum_instance=quantum_instance,initial_point=2*np.pi*np.random.rand(ansatz_opt.num_parameters))\n",
    "result = vqe.compute_minimum_eigenvalue(H_op)\n",
    "quantum_solution = -1*np.abs(result.eigenstate).real\n",
    "print(quantum_solution)\n",
    "\n",
    "if result.eigenvalue.real < best_result:\n",
    "    best_result = result.eigenvalue.real\n",
    "    kept_result = result\n",
    "print(\"Current round using ansatz TwoLocal with depth {}, found eigenvalue {}. Best so far {}\".format(depth, result.eigenvalue.real,best_result))\n",
    "total_res.update({(N, depth):kept_result})"
   ]
  },
  {
   "cell_type": "markdown",
   "metadata": {
    "id": "QYVEEusrcJny"
   },
   "source": [
    "### 3.7 Benchmark with analytical solution"
   ]
  },
  {
   "cell_type": "code",
   "execution_count": 24,
   "metadata": {
    "ExecuteTime": {
     "end_time": "2023-09-26T04:54:41.648535Z",
     "start_time": "2023-09-26T04:54:41.485176Z"
    },
    "colab": {
     "base_uri": "https://localhost:8080/",
     "height": 295
    },
    "id": "qkxcXsCsN-oH",
    "outputId": "dd1ef506-0ab1-428b-bd66-ac76b0954c70"
   },
   "outputs": [
    {
     "data": {
      "image/png": "[encoded data removed]",
      "text/plain": [
       "<Figure size 640x480 with 1 Axes>"
      ]
     },
     "metadata": {},
     "output_type": "display_data"
    }
   ],
   "source": [
    "t = np.arange(0., 1., 0.02)\n",
    "res = (t**3-t)/6\n",
    "norm_res = np.linalg.norm(res)\n",
    "res_norm = res/norm_res\n",
    "\n",
    "xt = np.arange(0,1,1/dim)\n",
    "exact = [1/6*(x**3-x) for x in np.arange(0,1,1/dim)]\n",
    "norm = np.linalg.norm(exact)\n",
    "exact = exact/norm\n",
    "\n",
    "# red dashes, blue squares and green triangles\n",
    "plt.plot(t, res_norm, 'r-', label='analytical')\n",
    "plt.plot(bt, x, 'o-.', label='classical')\n",
    "plt.plot(bt, quantum_solution, 'gx--', label='quantum')\n",
    "# plt.legend()\n",
    "plt.legend(loc=\"lower left\")\n",
    "plt.xlabel('Boundary [0,1]')\n",
    "plt.ylabel('Solution Profile')\n",
    "plt.title(\"4-qubit VQE for Poisson Eqn, TwoLocal, BFGS\")\n",
    "plt.grid(linestyle = '--', linewidth = 0.5)\n",
    "# plt.show()\n",
    "# plt.savefig(\"Poisson.png\", bbox_inches='tight', dpi=300)"
   ]
  },
  {
   "cell_type": "code",
   "execution_count": 25,
   "metadata": {
    "ExecuteTime": {
     "end_time": "2023-09-26T04:54:47.574890Z",
     "start_time": "2023-09-26T04:54:47.499539Z"
    },
    "id": "cGJ8L6j6YScY"
   },
   "outputs": [
    {
     "data": {
      "text/html": [
       "<h3>Version Information</h3><table><tr><th>Qiskit Software</th><th>Version</th></tr><tr><td><code>qiskit-terra</code></td><td>0.22.0</td></tr><tr><td><code>qiskit-aer</code></td><td>0.11.0</td></tr><tr><td><code>qiskit-ignis</code></td><td>0.6.0</td></tr><tr><td><code>qiskit-ibmq-provider</code></td><td>0.19.2</td></tr><tr><td><code>qiskit</code></td><td>0.39.0</td></tr><tr><th>System information</th></tr><tr><td>Python version</td><td>3.8.17</td></tr><tr><td>Python compiler</td><td>Clang 14.0.6 </td></tr><tr><td>Python build</td><td>default, Jul  5 2023 16:18:40</td></tr><tr><td>OS</td><td>Darwin</td></tr><tr><td>CPUs</td><td>8</td></tr><tr><td>Memory (Gb)</td><td>16.0</td></tr><tr><td colspan='2'>Tue Sep 26 00:54:47 2023 EDT</td></tr></table>"
      ],
      "text/plain": [
       "<IPython.core.display.HTML object>"
      ]
     },
     "metadata": {},
     "output_type": "display_data"
    }
   ],
   "source": [
    "import qiskit.tools.jupyter\n",
    "%qiskit_version_table"
   ]
  },
  {
   "cell_type": "code",
   "execution_count": null,
   "metadata": {},
   "outputs": [],
   "source": []
  }
 ],
 "metadata": {
  "colab": {
   "provenance": []
  },
  "gpuClass": "standard",
  "kernelspec": {
   "display_name": "Python 3 (ipykernel)",
   "language": "python",
   "name": "python3"
  },
  "language_info": {
   "codemirror_mode": {
    "name": "ipython",
    "version": 3
   },
   "file_extension": ".py",
   "mimetype": "text/x-python",
   "name": "python",
   "nbconvert_exporter": "python",
   "pygments_lexer": "ipython3",
   "version": "3.8.17"
  },
  "toc": {
   "base_numbering": 1,
   "nav_menu": {},
   "number_sections": true,
   "sideBar": true,
   "skip_h1_title": false,
   "title_cell": "Table of Contents",
   "title_sidebar": "Contents",
   "toc_cell": false,
   "toc_position": {},
   "toc_section_display": true,
   "toc_window_display": false
  },
  "varInspector": {
   "cols": {
    "lenName": 16,
    "lenType": 16,
    "lenVar": 40
   },
   "kernels_config": {
    "python": {
     "delete_cmd_postfix": "",
     "delete_cmd_prefix": "del ",
     "library": "var_list.py",
     "varRefreshCmd": "print(var_dic_list())"
    },
    "r": {
     "delete_cmd_postfix": ") ",
     "delete_cmd_prefix": "rm(",
     "library": "var_list.r",
     "varRefreshCmd": "cat(var_dic_list()) "
    }
   },
   "types_to_exclude": [
    "module",
    "function",
    "builtin_function_or_method",
    "instance",
    "_Feature"
   ],
   "window_display": false
  }
 },
 "nbformat": 4,
 "nbformat_minor": 1
}
